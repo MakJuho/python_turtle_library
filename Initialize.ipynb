{
 "cells": [
  {
   "cell_type": "code",
   "execution_count": 1,
   "metadata": {},
   "outputs": [],
   "source": [
    "from turtle import *\n"
   ]
  },
  {
   "cell_type": "code",
   "execution_count": 4,
   "metadata": {},
   "outputs": [],
   "source": [
    "reset()\n",
    "fd(100) # forward 앞으로 향함\n",
    "up() # 펜을 들고, 이동할 때 그림을 그리지 않음\n",
    "left(90) # 왼쪽을 향한 각도\n",
    "fd(50) \n",
    "left(90) \n",
    "down() # 펜을 내려놓고, 이동할 때 그림을 그린다.\n",
    "fd(100)\n",
    "# speed() 펜으로 그리는 속도범위 [0,10]\n",
    "# reset() 모든 설정을 되돌린다.\n",
    "# pensize() 펜의 굵기\n",
    "# fillcolor(colorstring) 그림을 채우는 색\n",
    "# color(펜의 색, 채우는 색)\n",
    "# color(red, green, blue)\n",
    "\n",
    "# 색을 채울 때에는 반드시 begin_fill()로 시작하고 end_fill로 끝낸다.\n",
    "# begin_fill()\n",
    "# end_fill()\n",
    "\n",
    "# circle(radius, extent)은 동그라미를 하나 그린다.\n",
    "# radius는 반"
   ]
  },
  {
   "cell_type": "code",
   "execution_count": 11,
   "metadata": {},
   "outputs": [],
   "source": [
    "# 삼각형 그리기\n",
    "import turtle\n",
    "a = 60\n",
    "reset()\n",
    "turtle.forward(a)\n",
    "turtle.left(120)\n",
    "turtle.forward(a)\n",
    "turtle.left(120)\n",
    "turtle.forward(a)\n",
    "turtle.left(120)"
   ]
  },
  {
   "cell_type": "code",
   "execution_count": 14,
   "metadata": {},
   "outputs": [],
   "source": [
    "# 별 그리기\n",
    "import turtle\n",
    "reset()\n",
    "up()\n",
    "goto(-100, 0)\n",
    "down()\n",
    "for n in range(1,6):\n",
    "    fd(100)\n",
    "    left(72)\n",
    "    fd(100)\n",
    "    right(144)"
   ]
  },
  {
   "cell_type": "code",
   "execution_count": 23,
   "metadata": {},
   "outputs": [],
   "source": [
    "# 검정 사각형\n",
    "from turtle import *\n",
    "reset()\n",
    "begin_fill()\n",
    "for n in range(1,5):\n",
    "    pencolor(\"black\")\n",
    "    fillcolor(\"black\")\n",
    "    left(90)\n",
    "    fd(100)\n",
    "end_fill()"
   ]
  },
  {
   "cell_type": "code",
   "execution_count": 25,
   "metadata": {},
   "outputs": [],
   "source": [
    "# 빨간 별\n",
    "from turtle import *\n",
    "reset()\n",
    "begin_fill()\n",
    "for n in range(1,6):\n",
    "    pencolor(\"red\")\n",
    "    fillcolor(\"red\")\n",
    "    left(144)\n",
    "    fd(200)\n",
    "end_fill()"
   ]
  },
  {
   "cell_type": "code",
   "execution_count": 29,
   "metadata": {},
   "outputs": [],
   "source": [
    "# 빨간색 태양\n",
    "from turtle import *\n",
    "reset()\n",
    "fillcolor(\"red\")\n",
    "begin_fill()\n",
    "for n in range(1,38):\n",
    "    fd(200)\n",
    "    left(170)\n",
    "end_fill()"
   ]
  },
  {
   "cell_type": "code",
   "execution_count": 32,
   "metadata": {},
   "outputs": [],
   "source": [
    "# 꽃 한송이\n",
    "from turtle import *\n",
    "\n",
    "reset()\n",
    "\n",
    "s= (\"red\", \"yellow\", \"brown\", \"pink\")\n",
    "for i in range(100):\n",
    "    color(s[i%4])\n",
    "    fd(i/2)\n",
    "    left(38)\n",
    "\n",
    "left(2)\n",
    "fd(30)\n",
    "\n",
    "# 줄기\n",
    "pensize(5)\n",
    "up()\n",
    "goto(109.13, -206.66)\n",
    "down()\n",
    "right(101)\n",
    "circle(300, 30)\n",
    "\n",
    "up()\n",
    "goto(-200, -200)\n",
    "\n",
    "down()\n",
    "write(\"done\")"
   ]
  },
  {
   "cell_type": "code",
   "execution_count": null,
   "metadata": {},
   "outputs": [],
   "source": []
  }
 ],
 "metadata": {
  "kernelspec": {
   "display_name": "Python 3",
   "language": "python",
   "name": "python3"
  },
  "language_info": {
   "codemirror_mode": {
    "name": "ipython",
    "version": 3
   },
   "file_extension": ".py",
   "mimetype": "text/x-python",
   "name": "python",
   "nbconvert_exporter": "python",
   "pygments_lexer": "ipython3",
   "version": "3.7.1"
  }
 },
 "nbformat": 4,
 "nbformat_minor": 2
}
